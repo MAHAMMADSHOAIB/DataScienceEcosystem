{
  "metadata": {
    "language_info": {
      "codemirror_mode": {
        "name": "python",
        "version": 3
      },
      "file_extension": ".py",
      "mimetype": "text/x-python",
      "name": "python",
      "nbconvert_exporter": "python",
      "pygments_lexer": "ipython3",
      "version": "3.8"
    },
    "kernelspec": {
      "name": "python",
      "display_name": "Python (Pyodide)",
      "language": "python"
    }
  },
  "nbformat_minor": 4,
  "nbformat": 4,
  "cells": [
    {
      "cell_type": "markdown",
      "source": "Data Science Tools and Ecosystem",
      "metadata": {}
    },
    {
      "cell_type": "markdown",
      "source": "In this notebook, Data Science Tools and Ecosystem are summarized.",
      "metadata": {}
    },
    {
      "cell_type": "markdown",
      "source": "Some of the popular languages that Data Scientists use are:",
      "metadata": {}
    },
    {
      "cell_type": "markdown",
      "source": "Python: Python is widely used in the data science community. It has a large ecosystem of libraries and frameworks like NumPy, Pandas, Matplotlib, Seaborn, scikit-learn, TensorFlow, and PyTorch that are essential for data manipulation, analysis, and machine learning.\n\nR: R is another statistical programming language commonly used in data analysis and visualization. It has a strong focus on statistics and is popular for its data manipulation and statistical modeling capabilities.\n\nSQL (Structured Query Language): While not a programming language in the traditional sense, SQL is crucial for working with relational databases. Data scientists often use SQL to query, manipulate, and analyze data stored in databases.\n\nJulia: Julia is gaining popularity in the data science community for its high-performance computing capabilities. It's designed to be fast and efficient, making it suitable for numerical and scientific computing tasks.\n\nScala: Scala is often used in conjunction with Apache Spark, a powerful distributed computing framework. It allows data scientists to process and analyze large datasets in a distributed and parallelized fashion.\n\nJava: Java is widely used in big data processing, especially in the Hadoop ecosystem. Apache Hadoop, a popular framework for distributed storage and processing of large datasets, is implemented in Java.\n\nMATLAB: MATLAB is commonly used in academic and research settings for numerical computing, data analysis, and visualization. It's known for its ease of use in mathematical modeling and simulation.\n\nSAS: SAS (Statistical Analysis System) is a software suite used for advanced analytics, business intelligence, and data management. It is widely used in industries such as finance, healthcare, and academia.\n\nJavaScript (with libraries like D3.js): For web-based data visualizations, data scientists may use JavaScript along with libraries like D3.js to create interactive and dynamic data visualizations in web browsers.\n\nGo (Golang): Go is known for its simplicity and efficiency. While not as prevalent as Python or R in data science, it is gaining traction, especially in building scalable and efficient data processing systems.\n\nThe choice of language often depends on the specific task, the existing infrastructure, and the preferences of the data scientist or data science team. Many data scientists use a combination of these languages depending on the requirements of their projects.\n\n\n\n\n\n",
      "metadata": {}
    },
    {
      "cell_type": "markdown",
      "source": "Some of the commonly used libraries used by Data Scientists include:",
      "metadata": {}
    },
    {
      "cell_type": "markdown",
      "source": "\nNumPy: A fundamental package for scientific computing with Python. It provides support for large, multi-dimensional arrays and matrices, along with mathematical functions to operate on these arrays.\n\nPandas: A data manipulation and analysis library for Python. It provides data structures like DataFrames and Series, making it easy to clean, filter, and analyze tabular data.\n\nMatplotlib: A 2D plotting library for Python that produces static, animated, and interactive visualizations. It is often used for creating charts and graphs.\n\nSeaborn: Built on top of Matplotlib, Seaborn provides a high-level interface for drawing attractive and informative statistical graphics. It simplifies the process of creating complex visualizations.\n\nScikit-learn: A machine learning library for Python. It provides simple and efficient tools for data mining and data analysis and is widely used for tasks like classification, regression, clustering, and dimensionality reduction.\n\nTensorFlow: An open-source machine learning framework developed by Google. It is widely used for building and training deep learning models, particularly for tasks like image and speech recognition.\n\nPyTorch: An open-source deep learning framework developed by Facebook. It is known for its dynamic computational graph, making it flexible and suitable for research in deep learning.\n\nKeras: A high-level neural networks API that runs on top of TensorFlow or other backends. It simplifies the process of building and experimenting with deep learning models.\n\nScipy: A library used for scientific and technical computing. It builds on NumPy and provides additional modules for optimization, signal and image processing, statistical functions, and more.\n\nStatsmodels: A library for estimating and testing statistical models in Python. It covers a broad range of statistical models and is often used for econometrics and data analysis.\n\nNLTK (Natural Language Toolkit): A library for working with human language data (text). It is widely used for tasks such as tokenization, stemming, lemmatization, and part-of-speech tagging.\n\nBeautiful Soup: A library for pulling data out of HTML and XML files. It is commonly used for web scraping and extracting information from web pages.\n\nNLTK (Natural Language Toolkit): A library for natural language processing in Python. It provides tools for tasks such as tokenization, stemming, lemmatization, part-of-speech tagging, and named entity recognition.\n\nOpenCV: An open-source computer vision library that provides tools for image and video analysis. It is widely used for tasks such as object detection, image processing, and facial recognition.\n\nPlotly: A library for creating interactive and dynamic visualizations. It supports a wide range of chart types and is often used for building dashboards.",
      "metadata": {}
    },
    {
      "cell_type": "markdown",
      "source": "| Data Science Tools     |\n|------------------------|\n| Jupyter Notebooks      |\n| RStudio                |\n| VS Code with Python     |\n",
      "metadata": {}
    },
    {
      "cell_type": "markdown",
      "source": "Below are a few examples of evaluating arithmetic expressions in Python",
      "metadata": {}
    },
    {
      "cell_type": "markdown",
      "source": "This a simple arithmetic expression to mutiply then add integers",
      "metadata": {}
    },
    {
      "cell_type": "code",
      "source": "(3*4)+5",
      "metadata": {
        "trusted": true
      },
      "execution_count": 2,
      "outputs": [
        {
          "execution_count": 2,
          "output_type": "execute_result",
          "data": {
            "text/plain": "17"
          },
          "metadata": {}
        }
      ]
    },
    {
      "cell_type": "markdown",
      "source": "This will convert 200 minutes to hours by diving by 60",
      "metadata": {}
    },
    {
      "cell_type": "markdown",
      "source": "hours = 200 / 60\n",
      "metadata": {}
    },
    {
      "cell_type": "markdown",
      "source": "## Objectives\n- Understand the basics of data science tools.\n- Learn about common programming languages in data science.\n- Explore popular libraries used in data science.\n- Perform a simple task in a Jupyter Notebook.\n",
      "metadata": {}
    },
    {
      "cell_type": "markdown",
      "source": "## AUTHOR\n## Aije Egwaikhide     \n## Aije Egwaikhide\n## Romeo Kienzler",
      "metadata": {}
    },
    {
      "cell_type": "code",
      "source": "",
      "metadata": {},
      "execution_count": null,
      "outputs": []
    },
    {
      "cell_type": "code",
      "source": "",
      "metadata": {},
      "execution_count": null,
      "outputs": []
    }
  ]
}